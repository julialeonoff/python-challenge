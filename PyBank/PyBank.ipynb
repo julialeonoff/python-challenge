{
 "cells": [
  {
   "cell_type": "code",
   "execution_count": 223,
   "metadata": {},
   "outputs": [
    {
     "name": "stdout",
     "output_type": "stream",
     "text": [
      "Financial Analysis\n",
      "----------------------------\n",
      "Total Months: 86\n",
      "Total: $38382578\n",
      "Average Change: $-2315.12\n",
      "Greatest Increase in Profits: Feb-2012 ($1926159)\n",
      "Greatest Decrease in Profits: Sep-2013 ($-2196167)\n"
     ]
    }
   ],
   "source": [
    "import os\n",
    "import csv\n",
    "\n",
    "csvpath = os.path.join('..', 'Untitled Folder', 'budget_data.csv')\n",
    "\n",
    "with open(csvpath, newline='') as csvfile:\n",
    "    PyBank = csv.reader(csvfile, delimiter=',')\n",
    "    cvs_header = next(PyBank)\n",
    "    \n",
    "    total_months = []\n",
    "    total_money = []\n",
    "    monthly_differences = []\n",
    "    \n",
    "    #Find Total Months and Revenue\n",
    "    for row in PyBank:\n",
    "        total_months.append(row[0])\n",
    "        numberOfmonths = len(total_months)\n",
    "        \n",
    "        total_money.append(int(row[1]))\n",
    "        revenue = sum(total_money)\n",
    "    \n",
    "    #Fine Average Profits/Losses\n",
    "    i = 0\n",
    "    for i in range(len(total_money) - 1):\n",
    "        change = int(total_money[i+1]) - int(total_money[i])\n",
    "        monthly_differences.append(change)\n",
    "    \n",
    "    total_change = sum(monthly_differences)\n",
    "    average_change = round(total_change / len(monthly_differences), 2)\n",
    "    \n",
    "    #Find Greatest Increase\n",
    "    increase = max(monthly_differences)\n",
    "    month = total_months[monthly_differences.index(increase) + 1]\n",
    "    \n",
    "    #Find Greatest Decrease\n",
    "    decrease = min(monthly_differences)\n",
    "    other_month = total_months[monthly_differences.index(decrease) + 1]\n",
    "    \n",
    "    #Print the Analysis\n",
    "    print(\"Financial Analysis\")\n",
    "    print(\"----------------------------\")\n",
    "    print(f\"Total Months: {numberOfmonths}\")\n",
    "    print(f\"Total: ${revenue}\")\n",
    "    print(f\"Average Change: ${average_change}\")\n",
    "    print(f\"Greatest Increase in Profits: {month} (${increase})\")\n",
    "    print(f\"Greatest Decrease in Profits: {other_month} (${decrease})\")\n",
    "    \n",
    "#Export to Text File\n",
    "    output_path = os.path.join(\"..\", \"Untitled Folder\", \"Financial_Analysis.txt\")\n",
    "\n",
    "    with open(output_path, 'w') as text:\n",
    "        text.write(f\"Financial Analysis\\n\")\n",
    "        text.write(f\"----------------------------\\n\")\n",
    "        text.write(f\"Total Months: {numberOfmonths}\\n\")\n",
    "        text.write(f\"Total: ${revenue}\\n\")\n",
    "        text.write(f\"Average Change: ${average_change}\\n\")\n",
    "        text.write(f\"Greatest Increase in Profits: {month} (${increase})\\n\")\n",
    "        text.write(f\"Greatest Decrease in Profits: {other_month} (${decrease})\\n\")\n",
    "    "
   ]
  },
  {
   "cell_type": "code",
   "execution_count": null,
   "metadata": {},
   "outputs": [],
   "source": []
  }
 ],
 "metadata": {
  "kernelspec": {
   "display_name": "Python 3",
   "language": "python",
   "name": "python3"
  },
  "language_info": {
   "codemirror_mode": {
    "name": "ipython",
    "version": 3
   },
   "file_extension": ".py",
   "mimetype": "text/x-python",
   "name": "python",
   "nbconvert_exporter": "python",
   "pygments_lexer": "ipython3",
   "version": "3.7.4"
  }
 },
 "nbformat": 4,
 "nbformat_minor": 2
}
