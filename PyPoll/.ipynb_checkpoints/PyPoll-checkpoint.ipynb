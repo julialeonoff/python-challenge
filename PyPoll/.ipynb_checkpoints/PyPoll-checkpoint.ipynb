{
 "cells": [
  {
   "cell_type": "code",
   "execution_count": null,
   "metadata": {},
   "outputs": [],
   "source": [
    "import os\n",
    "import csv\n",
    "\n",
    "csvpath = os.path.join('..', 'Untitled Folder', 'election_data.csv')\n",
    "           \n",
    "with open(csvpath, newline='') as csvfile:\n",
    "    PyPoll = csv.reader(csvfile, delimiter=',')\n",
    "    cvs_header = next(PyPoll)\n",
    "    \n",
    "    total_votes = []\n",
    "    all_candidates = []\n",
    "    candidates = []\n",
    "    Khan_count = []\n",
    "    OTooley_count = []\n",
    "    Li_count = []\n",
    "    Correy_count = []\n",
    "    votes = []\n",
    "    \n",
    "    for row in PyPoll:\n",
    "        total_votes.append(row[0])\n",
    "        total_number_votes = len(total_votes)\n",
    "    \n",
    "        all_candidates.append(row[2])\n",
    "        \n",
    "    for x in set(all_candidates):\n",
    "        candidates.append(x)\n",
    "        \n",
    "    for candidate in all_candidates:\n",
    "        if candidate == \"Khan\":\n",
    "            Khan_count.append(all_candidates)\n",
    "            Khan = len(Khan_count)\n",
    "            K_percent = '{0:.3f}'.format((Khan / total_number_votes) * 100)\n",
    "        elif candidate == \"O'Tooley\":\n",
    "            OTooley_count.append(all_candidates)\n",
    "            OTooley = len(OTooley_count)\n",
    "            O_percent = '{0:.3f}'.format((OTooley / total_number_votes) * 100)\n",
    "        elif candidate == \"Li\":\n",
    "            Li_count.append(all_candidates)\n",
    "            Li = len(Li_count)\n",
    "            L_percent = '{0:.3f}'.format((Li / total_number_votes) * 100)\n",
    "        else:\n",
    "            Correy_count.append(all_candidates)\n",
    "            Correy = len(Correy_count)\n",
    "            C_percent = '{0:.3f}'.format((Correy / total_number_votes) * 100)\n",
    "    \n",
    "    for candidate in candidates:\n",
    "        votes.append(all_candidates.count(candidate))\n",
    "        \n",
    "    for row in votes:\n",
    "        votes.append(candidates)\n",
    "    \n",
    "    print(votes)"
   ]
  },
  {
   "cell_type": "code",
   "execution_count": null,
   "metadata": {},
   "outputs": [],
   "source": []
  }
 ],
 "metadata": {
  "kernelspec": {
   "display_name": "Python [conda env:PythonData]",
   "language": "python",
   "name": "conda-env-PythonData-py"
  },
  "language_info": {
   "codemirror_mode": {
    "name": "ipython",
    "version": 3
   },
   "file_extension": ".py",
   "mimetype": "text/x-python",
   "name": "python",
   "nbconvert_exporter": "python",
   "pygments_lexer": "ipython3",
   "version": "3.6.10"
  }
 },
 "nbformat": 4,
 "nbformat_minor": 2
}
